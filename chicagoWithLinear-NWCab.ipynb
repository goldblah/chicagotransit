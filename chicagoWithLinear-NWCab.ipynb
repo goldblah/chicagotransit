{
 "cells": [
  {
   "cell_type": "markdown",
   "metadata": {},
   "source": [
    "<font> Imports for this code </font>"
   ]
  },
  {
   "cell_type": "code",
   "execution_count": 1,
   "metadata": {},
   "outputs": [],
   "source": [
    "import pandas as pd\n",
    "import matplotlib.pyplot as plt\n",
    "import seaborn as sns\n",
    "import folium\n",
    "import math\n",
    "from IPython.display import HTML, display\n",
    "%matplotlib inline"
   ]
  },
  {
   "cell_type": "markdown",
   "metadata": {},
   "source": [
    "<font>Functions for the project are in the sections below.</font>"
   ]
  },
  {
   "cell_type": "code",
   "execution_count": 2,
   "metadata": {},
   "outputs": [],
   "source": [
    "def taxifileReader(filename,sortCol,startDate,endDate):\n",
    "    '''\n",
    "    Reads in the taxi cab csv files into dataframes. Will also convert dates into pandas\n",
    "    datetime objects and sorts the data on a given column.\n",
    "    '''\n",
    "    temp = pd.read_csv(filename)\n",
    "    temp[startDate]=pd.to_datetime(temp[startDate],format='%d%b%y:%X')\n",
    "    temp[endDate]=pd.to_datetime(temp[endDate],format='%d%b%y:%X')\n",
    "    temp = temp.sort_values(sortCol)\n",
    "    return temp"
   ]
  },
  {
   "cell_type": "markdown",
   "metadata": {},
   "source": [
    "<font> CSV Imports using functions defined above</font>"
   ]
  },
  {
   "cell_type": "code",
   "execution_count": 3,
   "metadata": {},
   "outputs": [],
   "source": [
    "NWCab = taxifileReader('N&W Cab Co.csv','trip_start','trip_start','trip_end')\n",
    "BennyJona = taxifileReader('Benny Jona.csv','trip_start','trip_start','trip_end')\n",
    "CDCab=taxifileReader('C&D Cab Inc.csv','trip_start','trip_start','trip_end')\n",
    "Zeymane=taxifileReader('Zeymane Corp.csv','trip_start','trip_start','trip_end')\n"
   ]
  },
  {
   "cell_type": "code",
   "execution_count": null,
   "metadata": {},
   "outputs": [],
   "source": []
  },
  {
   "cell_type": "code",
   "execution_count": 4,
   "metadata": {},
   "outputs": [
    {
     "data": {
      "text/plain": [
       "8.0     8371\n",
       "32.0    3409\n",
       "28.0    2657\n",
       "7.0     2393\n",
       "6.0     2180\n",
       "24.0    1497\n",
       "33.0     561\n",
       "22.0     480\n",
       "3.0      432\n",
       "5.0      318\n",
       "77.0     196\n",
       "4.0      170\n",
       "16.0     113\n",
       "76.0      91\n",
       "1.0       75\n",
       "21.0      74\n",
       "14.0      68\n",
       "31.0      54\n",
       "41.0      46\n",
       "35.0      38\n",
       "60.0      29\n",
       "34.0      28\n",
       "56.0      26\n",
       "2.0       24\n",
       "59.0      23\n",
       "23.0      22\n",
       "15.0      21\n",
       "39.0      17\n",
       "13.0      12\n",
       "10.0       8\n",
       "30.0       8\n",
       "11.0       8\n",
       "9.0        7\n",
       "12.0       7\n",
       "38.0       7\n",
       "19.0       7\n",
       "27.0       6\n",
       "29.0       6\n",
       "42.0       6\n",
       "25.0       4\n",
       "58.0       4\n",
       "20.0       4\n",
       "17.0       3\n",
       "43.0       3\n",
       "61.0       2\n",
       "63.0       2\n",
       "36.0       2\n",
       "57.0       1\n",
       "26.0       1\n",
       "72.0       1\n",
       "69.0       1\n",
       "Name: dropoff_community_area, dtype: int64"
      ]
     },
     "execution_count": 4,
     "metadata": {},
     "output_type": "execute_result"
    }
   ],
   "source": [
    "NWCab.dropoff_community_area.value_counts()"
   ]
  },
  {
   "cell_type": "code",
   "execution_count": 5,
   "metadata": {
    "scrolled": true
   },
   "outputs": [
    {
     "data": {
      "text/html": [
       "<div>\n",
       "<style scoped>\n",
       "    .dataframe tbody tr th:only-of-type {\n",
       "        vertical-align: middle;\n",
       "    }\n",
       "\n",
       "    .dataframe tbody tr th {\n",
       "        vertical-align: top;\n",
       "    }\n",
       "\n",
       "    .dataframe thead th {\n",
       "        text-align: right;\n",
       "    }\n",
       "</style>\n",
       "<table border=\"1\" class=\"dataframe\">\n",
       "  <thead>\n",
       "    <tr style=\"text-align: right;\">\n",
       "      <th></th>\n",
       "      <th>trip_miles</th>\n",
       "      <th>trip_sec</th>\n",
       "      <th>fare</th>\n",
       "    </tr>\n",
       "  </thead>\n",
       "  <tbody>\n",
       "    <tr>\n",
       "      <th>12376</th>\n",
       "      <td>6.0</td>\n",
       "      <td>1620.0</td>\n",
       "      <td>19.75</td>\n",
       "    </tr>\n",
       "    <tr>\n",
       "      <th>14816</th>\n",
       "      <td>1.1</td>\n",
       "      <td>300.0</td>\n",
       "      <td>6.00</td>\n",
       "    </tr>\n",
       "    <tr>\n",
       "      <th>12648</th>\n",
       "      <td>3.5</td>\n",
       "      <td>660.0</td>\n",
       "      <td>12.00</td>\n",
       "    </tr>\n",
       "    <tr>\n",
       "      <th>12910</th>\n",
       "      <td>7.5</td>\n",
       "      <td>840.0</td>\n",
       "      <td>21.00</td>\n",
       "    </tr>\n",
       "    <tr>\n",
       "      <th>12012</th>\n",
       "      <td>1.0</td>\n",
       "      <td>240.0</td>\n",
       "      <td>5.75</td>\n",
       "    </tr>\n",
       "  </tbody>\n",
       "</table>\n",
       "</div>"
      ],
      "text/plain": [
       "       trip_miles  trip_sec   fare\n",
       "12376         6.0    1620.0  19.75\n",
       "14816         1.1     300.0   6.00\n",
       "12648         3.5     660.0  12.00\n",
       "12910         7.5     840.0  21.00\n",
       "12012         1.0     240.0   5.75"
      ]
     },
     "execution_count": 5,
     "metadata": {},
     "output_type": "execute_result"
    }
   ],
   "source": [
    "NWCab1 = NWCab[(pd.DatetimeIndex(NWCab['trip_start']).year == 2017) & (NWCab.trip_start.notnull()) \n",
    "               & (NWCab.trip_miles.notnull()) & (NWCab.trip_sec.notnull()) & (NWCab.fare.notnull())\n",
    "               & (NWCab.trip_miles != 0) & (NWCab.fare != 0)]\n",
    "NWCab1 = NWCab1[['trip_miles', 'trip_sec', 'fare']] \n",
    "NWCab1.head()"
   ]
  },
  {
   "cell_type": "code",
   "execution_count": 6,
   "metadata": {},
   "outputs": [
    {
     "data": {
      "text/html": [
       "<div>\n",
       "<style scoped>\n",
       "    .dataframe tbody tr th:only-of-type {\n",
       "        vertical-align: middle;\n",
       "    }\n",
       "\n",
       "    .dataframe tbody tr th {\n",
       "        vertical-align: top;\n",
       "    }\n",
       "\n",
       "    .dataframe thead th {\n",
       "        text-align: right;\n",
       "    }\n",
       "</style>\n",
       "<table border=\"1\" class=\"dataframe\">\n",
       "  <thead>\n",
       "    <tr style=\"text-align: right;\">\n",
       "      <th></th>\n",
       "      <th>trip_miles</th>\n",
       "      <th>trip_sec</th>\n",
       "      <th>fare</th>\n",
       "    </tr>\n",
       "  </thead>\n",
       "  <tbody>\n",
       "    <tr>\n",
       "      <th>19426</th>\n",
       "      <td>17.8</td>\n",
       "      <td>1800.0</td>\n",
       "      <td>36.25</td>\n",
       "    </tr>\n",
       "    <tr>\n",
       "      <th>19743</th>\n",
       "      <td>3.5</td>\n",
       "      <td>900.0</td>\n",
       "      <td>11.05</td>\n",
       "    </tr>\n",
       "    <tr>\n",
       "      <th>17933</th>\n",
       "      <td>0.5</td>\n",
       "      <td>180.0</td>\n",
       "      <td>4.65</td>\n",
       "    </tr>\n",
       "    <tr>\n",
       "      <th>17479</th>\n",
       "      <td>0.7</td>\n",
       "      <td>240.0</td>\n",
       "      <td>5.05</td>\n",
       "    </tr>\n",
       "    <tr>\n",
       "      <th>19402</th>\n",
       "      <td>17.5</td>\n",
       "      <td>2280.0</td>\n",
       "      <td>36.25</td>\n",
       "    </tr>\n",
       "  </tbody>\n",
       "</table>\n",
       "</div>"
      ],
      "text/plain": [
       "       trip_miles  trip_sec   fare\n",
       "19426        17.8    1800.0  36.25\n",
       "19743         3.5     900.0  11.05\n",
       "17933         0.5     180.0   4.65\n",
       "17479         0.7     240.0   5.05\n",
       "19402        17.5    2280.0  36.25"
      ]
     },
     "execution_count": 6,
     "metadata": {},
     "output_type": "execute_result"
    }
   ],
   "source": [
    "testNWCab = NWCab[(pd.DatetimeIndex(NWCab['trip_start']).year != 2017) & (NWCab.trip_start.notnull()) \n",
    "                  & (NWCab.trip_miles.notnull()) & (NWCab.trip_sec.notnull()) & (NWCab.fare.notnull()) \n",
    "                  & (NWCab.trip_miles != 0) & (NWCab.fare != 0)]\n",
    "testNWCab = testNWCab[['trip_miles', 'trip_sec', 'fare']]\n",
    "testNWCab.head()"
   ]
  },
  {
   "cell_type": "code",
   "execution_count": 7,
   "metadata": {},
   "outputs": [],
   "source": [
    "#Linear model for total time, trip distance to predict fare. \n",
    "miles = NWCab1.trip_miles.values.reshape(-1,1)\n",
    "time = NWCab1.trip_sec.values.reshape(-1,1)\n",
    "total = NWCab1.fare.values.reshape(-1,1)\n",
    "testmiles = testNWCab.trip_miles.values.reshape(-1,1)\n",
    "testtime = testNWCab.trip_sec.values.reshape(-1,1)\n",
    "testtotal = testNWCab.fare.values.reshape(-1,1)"
   ]
  },
  {
   "cell_type": "code",
   "execution_count": 8,
   "metadata": {},
   "outputs": [
    {
     "data": {
      "text/plain": [
       "<matplotlib.axes._subplots.AxesSubplot at 0x13bff240>"
      ]
     },
     "execution_count": 8,
     "metadata": {},
     "output_type": "execute_result"
    },
    {
     "data": {
      "image/png": "[encoded data removed]",
      "text/plain": [
       "<Figure size 432x288 with 2 Axes>"
      ]
     },
     "metadata": {},
     "output_type": "display_data"
    }
   ],
   "source": [
    "fig, ax = plt.subplots(ncols=2, sharey=True)\n",
    "\n",
    "NWCab1.plot(kind='scatter', x='trip_sec', y='fare', ax=ax[0])\n",
    "NWCab1.plot(kind='scatter', x='trip_miles', y='fare', ax=ax[1])"
   ]
  },
  {
   "cell_type": "code",
   "execution_count": 9,
   "metadata": {},
   "outputs": [
    {
     "data": {
      "text/html": [
       "<div>\n",
       "<style scoped>\n",
       "    .dataframe tbody tr th:only-of-type {\n",
       "        vertical-align: middle;\n",
       "    }\n",
       "\n",
       "    .dataframe tbody tr th {\n",
       "        vertical-align: top;\n",
       "    }\n",
       "\n",
       "    .dataframe thead th {\n",
       "        text-align: right;\n",
       "    }\n",
       "</style>\n",
       "<table border=\"1\" class=\"dataframe\">\n",
       "  <thead>\n",
       "    <tr style=\"text-align: right;\">\n",
       "      <th></th>\n",
       "      <th>trip_miles</th>\n",
       "      <th>trip_sec</th>\n",
       "      <th>fare</th>\n",
       "    </tr>\n",
       "  </thead>\n",
       "  <tbody>\n",
       "    <tr>\n",
       "      <th>trip_miles</th>\n",
       "      <td>1.000000</td>\n",
       "      <td>0.770280</td>\n",
       "      <td>0.952395</td>\n",
       "    </tr>\n",
       "    <tr>\n",
       "      <th>trip_sec</th>\n",
       "      <td>0.770280</td>\n",
       "      <td>1.000000</td>\n",
       "      <td>0.873648</td>\n",
       "    </tr>\n",
       "    <tr>\n",
       "      <th>fare</th>\n",
       "      <td>0.952395</td>\n",
       "      <td>0.873648</td>\n",
       "      <td>1.000000</td>\n",
       "    </tr>\n",
       "  </tbody>\n",
       "</table>\n",
       "</div>"
      ],
      "text/plain": [
       "            trip_miles  trip_sec      fare\n",
       "trip_miles    1.000000  0.770280  0.952395\n",
       "trip_sec      0.770280  1.000000  0.873648\n",
       "fare          0.952395  0.873648  1.000000"
      ]
     },
     "execution_count": 9,
     "metadata": {},
     "output_type": "execute_result"
    }
   ],
   "source": [
    "NWCab1.corr()"
   ]
  },
  {
   "cell_type": "code",
   "execution_count": 10,
   "metadata": {},
   "outputs": [
    {
     "name": "stdout",
     "output_type": "stream",
     "text": [
      "('Regression Results', '\\n')\n",
      "Trip Miles vs. Total Cost\n",
      "('Score:', 0.9070557944851529)\n",
      "('RMSE:', 1.7090790920747758, '\\n')\n",
      "Trip Time (s.)  vs. Total Cost\n",
      "('Score', 0.7632605890825609)\n",
      "('RMSE:', 2.727635178181673, '\\n')\n"
     ]
    }
   ],
   "source": [
    "import numpy as np\n",
    "from sklearn import linear_model\n",
    "\n",
    "print('Regression Results', '\\n')\n",
    "\n",
    "miles_total = linear_model.LinearRegression()\n",
    "miles_total.fit(miles, total);\n",
    "print('Trip Miles vs. Total Cost')\n",
    "print('Score:', miles_total.score(miles, total))\n",
    "pred = miles_total.predict(miles)\n",
    "print('RMSE:',np.sqrt(((total-pred)**2).sum()/len(pred)),'\\n')\n",
    "\n",
    "time_total = linear_model.LinearRegression()\n",
    "time_total.fit(time, total);\n",
    "print('Trip Time (s.)  vs. Total Cost')\n",
    "print('Score',time_total.score(time, total))\n",
    "pred = time_total.predict(time)\n",
    "print('RMSE:',np.sqrt(((total-pred)**2).sum()/len(pred)), '\\n')"
   ]
  },
  {
   "cell_type": "code",
   "execution_count": 11,
   "metadata": {},
   "outputs": [
    {
     "name": "stdout",
     "output_type": "stream",
     "text": [
      "('RMSE for test data\\n', 'Trip Miles', 1.812146804774787)\n",
      "('', 'Trip Time (s.)', 2.4043084978891893)\n"
     ]
    }
   ],
   "source": [
    "predt = miles_total.predict(testmiles)\n",
    "predt1 = time_total.predict(testtime)\n",
    "print('RMSE for test data\\n','Trip Miles',np.sqrt(((testtotal-predt)**2).sum()/len(predt)))\n",
    "print('','Trip Time (s.)',np.sqrt(((testtotal-predt1)**2).sum()/len(predt1)))"
   ]
  },
  {
   "cell_type": "code",
   "execution_count": 12,
   "metadata": {},
   "outputs": [
    {
     "data": {
      "image/png": "[encoded data removed]",
      "text/plain": [
       "<Figure size 720x288 with 2 Axes>"
      ]
     },
     "metadata": {},
     "output_type": "display_data"
    }
   ],
   "source": [
    "L = miles_total.predict(miles)\n",
    "L1 = time_total.predict(time)\n",
    "\n",
    "fig, (ax1,ax2) = plt.subplots(nrows=1,ncols=2,figsize=(10,4))\n",
    "\n",
    "ax1.plot(miles,total,'.')\n",
    "ax1.plot(testmiles,testtotal,'*')\n",
    "ax1.plot(miles,L)\n",
    "ax1.set_xlim(xmin=0,xmax=20)\n",
    "ax1.set_xlabel('Trip Miles')\n",
    "ax1.set_ylabel('Trip Total')\n",
    "ax1.set_title('Miles vs. Total')\n",
    "\n",
    "ax2.plot(time,total,'.')\n",
    "ax2.plot(testtime,testtotal,'*')\n",
    "ax2.plot(time,L1)\n",
    "ax2.set_xlim(xmin=0,xmax=4000)\n",
    "ax2.set_xlabel('Trip Time')\n",
    "ax2.set_ylabel('Trip Total')\n",
    "ax2.set_title('Time vs. Total')\n",
    "\n",
    "fig.tight_layout()"
   ]
  },
  {
   "cell_type": "code",
   "execution_count": 13,
   "metadata": {},
   "outputs": [
    {
     "name": "stdout",
     "output_type": "stream",
     "text": [
      "('Trip Miles and Time to predict Total', '\\n')\n",
      "('Miles/Time', '\\n', 'Score:', 0.9552778657860572, '\\n', 'RMSE:', 1.1855292180595003, '\\n')\n"
     ]
    }
   ],
   "source": [
    "print('Trip Miles and Time to predict Total','\\n')\n",
    "\n",
    "mtTotal = linear_model.LinearRegression()\n",
    "mt = np.hstack((miles,time))\n",
    "mtTotal.fit(mt,total)\n",
    "pred = mtTotal.predict(mt)\n",
    "print('Miles/Time','\\n','Score:',mtTotal.score(mt,total),'\\n','RMSE:', np.sqrt(((total-pred)**2).sum()/len(pred)),'\\n')"
   ]
  },
  {
   "cell_type": "code",
   "execution_count": 14,
   "metadata": {},
   "outputs": [],
   "source": [
    "testmt = np.hstack((testmiles,testtime))"
   ]
  },
  {
   "cell_type": "code",
   "execution_count": 15,
   "metadata": {},
   "outputs": [
    {
     "name": "stdout",
     "output_type": "stream",
     "text": [
      "('(Test Data: 2017) Trip Miles and Time to predict Total', '\\n')\n",
      "('Miles/Time', '\\n', 'Score:', 0.9298156154324633, '\\n', 'RMSE:', 1.3568539228542837, '\\n')\n"
     ]
    }
   ],
   "source": [
    "print('(Test Data: 2017) Trip Miles and Time to predict Total','\\n')\n",
    "\n",
    "pred1 = mtTotal.predict(testmt)\n",
    "print('Miles/Time','\\n','Score:',mtTotal.score(testmt,testtotal),'\\n','RMSE:', np.sqrt(((testtotal-pred1)**2).sum()/len(pred1)),'\\n')"
   ]
  }
 ],
 "metadata": {
  "kernelspec": {
   "display_name": "Python 2",
   "language": "python",
   "name": "python2"
  },
  "language_info": {
   "codemirror_mode": {
    "name": "ipython",
    "version": 2
   },
   "file_extension": ".py",
   "mimetype": "text/x-python",
   "name": "python",
   "nbconvert_exporter": "python",
   "pygments_lexer": "ipython2",
   "version": "2.7.15"
  }
 },
 "nbformat": 4,
 "nbformat_minor": 2
}
