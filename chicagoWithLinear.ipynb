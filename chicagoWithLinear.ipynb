{
 "cells": [
  {
   "cell_type": "markdown",
   "metadata": {},
   "source": [
    "<font> Imports for this code </font>"
   ]
  },
  {
   "cell_type": "code",
   "execution_count": 48,
   "metadata": {},
   "outputs": [],
   "source": [
    "import pandas as pd\n",
    "import matplotlib.pyplot as plt\n",
    "import seaborn as sns\n",
    "import folium\n",
    "import math\n",
    "from IPython.display import HTML, display\n",
    "%matplotlib inline"
   ]
  },
  {
   "cell_type": "markdown",
   "metadata": {},
   "source": [
    "<font>Functions for the project are in the sections below.</font>"
   ]
  },
  {
   "cell_type": "code",
   "execution_count": 49,
   "metadata": {},
   "outputs": [],
   "source": [
    "def taxifileReader(filename,sortCol,startDate,endDate):\n",
    "    '''\n",
    "    Reads in the taxi cab csv files into dataframes. Will also convert dates into pandas\n",
    "    datetime objects and sorts the data on a given column.\n",
    "    '''\n",
    "    temp = pd.read_csv(filename)\n",
    "    temp[startDate]=pd.to_datetime(temp[startDate],format='%d%b%y:%X')\n",
    "    temp[endDate]=pd.to_datetime(temp[endDate],format='%d%b%y:%X')\n",
    "    temp = temp.sort_values(sortCol)\n",
    "    return temp"
   ]
  },
  {
   "cell_type": "code",
   "execution_count": 50,
   "metadata": {},
   "outputs": [],
   "source": [
    "def fileReader(filename,sortCol,date):\n",
    "    '''\n",
    "    Reads in the csv files for bus and train data into dataframes. Will also convert dates into pandas\n",
    "    datetime objects and sorts the data on a given column.\n",
    "    '''\n",
    "    temp = pd.read_csv(filename)\n",
    "    temp[date]=pd.to_datetime(temp[date],format='%m/%d/%Y')\n",
    "    temp=temp[(pd.DatetimeIndex(temp[date]).year == 2013) | (pd.DatetimeIndex(temp[date]).year == 2014) |\n",
    "                  (pd.DatetimeIndex(temp[date]).year == 2015) | (pd.DatetimeIndex(temp[date]).year == 2016) | \n",
    "                  (pd.DatetimeIndex(temp[date]).year == 2017)]\n",
    "    temp = temp.sort_values(sortCol)\n",
    "    return temp"
   ]
  },
  {
   "cell_type": "markdown",
   "metadata": {},
   "source": [
    "<font> CSV Imports using functions defined above</font>"
   ]
  },
  {
   "cell_type": "code",
   "execution_count": 51,
   "metadata": {},
   "outputs": [],
   "source": [
    "NWCab = taxifileReader('N&W Cab Co.csv','trip_start','trip_start','trip_end')\n",
    "BennyJona = taxifileReader('Benny Jona.csv','trip_start','trip_start','trip_end')\n",
    "CDCab=taxifileReader('C&D Cab Inc.csv','trip_start','trip_start','trip_end')\n",
    "Zeymane=taxifileReader('Zeymane Corp.csv','trip_start','trip_start','trip_end')\n",
    "train = fileReader('CTA_-_Ridership_-__L__Station_Entries_-_Daily_Totals.csv','date','date')\n",
    "bus = fileReader('CTA_-_Ridership_-_Bus_Routes_-_Daily_Totals_by_Route.csv','date','date')"
   ]
  },
  {
   "cell_type": "code",
   "execution_count": null,
   "metadata": {},
   "outputs": [],
   "source": []
  },
  {
   "cell_type": "code",
   "execution_count": 52,
   "metadata": {},
   "outputs": [
    {
     "data": {
      "text/html": [
       "<div>\n",
       "<style scoped>\n",
       "    .dataframe tbody tr th:only-of-type {\n",
       "        vertical-align: middle;\n",
       "    }\n",
       "\n",
       "    .dataframe tbody tr th {\n",
       "        vertical-align: top;\n",
       "    }\n",
       "\n",
       "    .dataframe thead th {\n",
       "        text-align: right;\n",
       "    }\n",
       "</style>\n",
       "<table border=\"1\" class=\"dataframe\">\n",
       "  <thead>\n",
       "    <tr style=\"text-align: right;\">\n",
       "      <th></th>\n",
       "      <th>trip_id</th>\n",
       "      <th>taxi_id</th>\n",
       "      <th>trip_start</th>\n",
       "      <th>trip_end</th>\n",
       "      <th>trip_sec</th>\n",
       "      <th>trip_miles</th>\n",
       "      <th>pickup_census_tract</th>\n",
       "      <th>dropoff_census_tract</th>\n",
       "      <th>pickup_community_area</th>\n",
       "      <th>dropoff_community_area</th>\n",
       "      <th>...</th>\n",
       "      <th>extras</th>\n",
       "      <th>trip_total</th>\n",
       "      <th>payment_type</th>\n",
       "      <th>company</th>\n",
       "      <th>pickup_lat</th>\n",
       "      <th>pickup_long</th>\n",
       "      <th>pickup_loc</th>\n",
       "      <th>dropoff_lat</th>\n",
       "      <th>dropoff_long</th>\n",
       "      <th>dropoff_loc</th>\n",
       "    </tr>\n",
       "  </thead>\n",
       "  <tbody>\n",
       "    <tr>\n",
       "      <th>19729</th>\n",
       "      <td>6543e42228cf7459a81d49582781d11728bcc36d</td>\n",
       "      <td>e1a41c8d6d3b0e4aa884ccb8a99f70075f76d82a7f1f5f...</td>\n",
       "      <td>2013-02-27 15:45:00</td>\n",
       "      <td>2013-02-27 15:45:00</td>\n",
       "      <td>0.0</td>\n",
       "      <td>0.0</td>\n",
       "      <td>NaN</td>\n",
       "      <td>NaN</td>\n",
       "      <td>16.0</td>\n",
       "      <td>16.0</td>\n",
       "      <td>...</td>\n",
       "      <td>0.5</td>\n",
       "      <td>3.75</td>\n",
       "      <td>Cash</td>\n",
       "      <td>1085 - N and W Cab Co</td>\n",
       "      <td>41.953582</td>\n",
       "      <td>-87.723452</td>\n",
       "      <td>POINT (-87.7234523905 41.9535821253)</td>\n",
       "      <td>41.953582</td>\n",
       "      <td>-87.723452</td>\n",
       "      <td>POINT (-87.7234523905 41.9535821253)</td>\n",
       "    </tr>\n",
       "    <tr>\n",
       "      <th>17370</th>\n",
       "      <td>f38a0db03ee408234da835506fb606e0de89445c</td>\n",
       "      <td>e1a41c8d6d3b0e4aa884ccb8a99f70075f76d82a7f1f5f...</td>\n",
       "      <td>2013-02-27 16:00:00</td>\n",
       "      <td>2013-02-27 16:00:00</td>\n",
       "      <td>60.0</td>\n",
       "      <td>0.0</td>\n",
       "      <td>17031160.0</td>\n",
       "      <td>17031160.0</td>\n",
       "      <td>16.0</td>\n",
       "      <td>16.0</td>\n",
       "      <td>...</td>\n",
       "      <td>1.0</td>\n",
       "      <td>4.25</td>\n",
       "      <td>Cash</td>\n",
       "      <td>1085 - N and W Cab Co</td>\n",
       "      <td>41.958798</td>\n",
       "      <td>-87.738394</td>\n",
       "      <td>POINT (-87.7383939059 41.9587978628)</td>\n",
       "      <td>41.958798</td>\n",
       "      <td>-87.738394</td>\n",
       "      <td>POINT (-87.7383939059 41.9587978628)</td>\n",
       "    </tr>\n",
       "    <tr>\n",
       "      <th>17298</th>\n",
       "      <td>f0465fd9f6eaa68db27922da71c934b76e9224ec</td>\n",
       "      <td>e1a41c8d6d3b0e4aa884ccb8a99f70075f76d82a7f1f5f...</td>\n",
       "      <td>2013-02-27 16:00:00</td>\n",
       "      <td>2013-02-27 16:00:00</td>\n",
       "      <td>0.0</td>\n",
       "      <td>0.0</td>\n",
       "      <td>17031160.0</td>\n",
       "      <td>17031160.0</td>\n",
       "      <td>16.0</td>\n",
       "      <td>16.0</td>\n",
       "      <td>...</td>\n",
       "      <td>2.0</td>\n",
       "      <td>5.25</td>\n",
       "      <td>Cash</td>\n",
       "      <td>1085 - N and W Cab Co</td>\n",
       "      <td>41.958798</td>\n",
       "      <td>-87.738394</td>\n",
       "      <td>POINT (-87.7383939059 41.9587978628)</td>\n",
       "      <td>41.958798</td>\n",
       "      <td>-87.738394</td>\n",
       "      <td>POINT (-87.7383939059 41.9587978628)</td>\n",
       "    </tr>\n",
       "    <tr>\n",
       "      <th>20033</th>\n",
       "      <td>72dcd26a664f6f13e84da624823670094bb8e9c1</td>\n",
       "      <td>e1a41c8d6d3b0e4aa884ccb8a99f70075f76d82a7f1f5f...</td>\n",
       "      <td>2013-02-27 16:00:00</td>\n",
       "      <td>2013-02-27 16:00:00</td>\n",
       "      <td>0.0</td>\n",
       "      <td>0.0</td>\n",
       "      <td>17031160.0</td>\n",
       "      <td>17031160.0</td>\n",
       "      <td>16.0</td>\n",
       "      <td>16.0</td>\n",
       "      <td>...</td>\n",
       "      <td>0.0</td>\n",
       "      <td>3.25</td>\n",
       "      <td>Cash</td>\n",
       "      <td>1085 - N and W Cab Co</td>\n",
       "      <td>41.958798</td>\n",
       "      <td>-87.738394</td>\n",
       "      <td>POINT (-87.7383939059 41.9587978628)</td>\n",
       "      <td>41.958798</td>\n",
       "      <td>-87.738394</td>\n",
       "      <td>POINT (-87.7383939059 41.9587978628)</td>\n",
       "    </tr>\n",
       "    <tr>\n",
       "      <th>17606</th>\n",
       "      <td>fdef3aeec74e0e10f82ab9dc3bb709a88f6e0227</td>\n",
       "      <td>e1a41c8d6d3b0e4aa884ccb8a99f70075f76d82a7f1f5f...</td>\n",
       "      <td>2013-02-27 16:15:00</td>\n",
       "      <td>2013-02-27 16:15:00</td>\n",
       "      <td>0.0</td>\n",
       "      <td>0.0</td>\n",
       "      <td>17031160.0</td>\n",
       "      <td>17031160.0</td>\n",
       "      <td>16.0</td>\n",
       "      <td>16.0</td>\n",
       "      <td>...</td>\n",
       "      <td>0.0</td>\n",
       "      <td>4.25</td>\n",
       "      <td>Cash</td>\n",
       "      <td>1085 - N and W Cab Co</td>\n",
       "      <td>41.958798</td>\n",
       "      <td>-87.738394</td>\n",
       "      <td>POINT (-87.7383939059 41.9587978628)</td>\n",
       "      <td>41.958798</td>\n",
       "      <td>-87.738394</td>\n",
       "      <td>POINT (-87.7383939059 41.9587978628)</td>\n",
       "    </tr>\n",
       "  </tbody>\n",
       "</table>\n",
       "<p>5 rows × 23 columns</p>\n",
       "</div>"
      ],
      "text/plain": [
       "                                        trip_id  \\\n",
       "19729  6543e42228cf7459a81d49582781d11728bcc36d   \n",
       "17370  f38a0db03ee408234da835506fb606e0de89445c   \n",
       "17298  f0465fd9f6eaa68db27922da71c934b76e9224ec   \n",
       "20033  72dcd26a664f6f13e84da624823670094bb8e9c1   \n",
       "17606  fdef3aeec74e0e10f82ab9dc3bb709a88f6e0227   \n",
       "\n",
       "                                                 taxi_id          trip_start  \\\n",
       "19729  e1a41c8d6d3b0e4aa884ccb8a99f70075f76d82a7f1f5f... 2013-02-27 15:45:00   \n",
       "17370  e1a41c8d6d3b0e4aa884ccb8a99f70075f76d82a7f1f5f... 2013-02-27 16:00:00   \n",
       "17298  e1a41c8d6d3b0e4aa884ccb8a99f70075f76d82a7f1f5f... 2013-02-27 16:00:00   \n",
       "20033  e1a41c8d6d3b0e4aa884ccb8a99f70075f76d82a7f1f5f... 2013-02-27 16:00:00   \n",
       "17606  e1a41c8d6d3b0e4aa884ccb8a99f70075f76d82a7f1f5f... 2013-02-27 16:15:00   \n",
       "\n",
       "                 trip_end  trip_sec  trip_miles  pickup_census_tract  \\\n",
       "19729 2013-02-27 15:45:00       0.0         0.0                  NaN   \n",
       "17370 2013-02-27 16:00:00      60.0         0.0           17031160.0   \n",
       "17298 2013-02-27 16:00:00       0.0         0.0           17031160.0   \n",
       "20033 2013-02-27 16:00:00       0.0         0.0           17031160.0   \n",
       "17606 2013-02-27 16:15:00       0.0         0.0           17031160.0   \n",
       "\n",
       "       dropoff_census_tract  pickup_community_area  dropoff_community_area  \\\n",
       "19729                   NaN                   16.0                    16.0   \n",
       "17370            17031160.0                   16.0                    16.0   \n",
       "17298            17031160.0                   16.0                    16.0   \n",
       "20033            17031160.0                   16.0                    16.0   \n",
       "17606            17031160.0                   16.0                    16.0   \n",
       "\n",
       "                       ...                   extras  trip_total  payment_type  \\\n",
       "19729                  ...                      0.5        3.75          Cash   \n",
       "17370                  ...                      1.0        4.25          Cash   \n",
       "17298                  ...                      2.0        5.25          Cash   \n",
       "20033                  ...                      0.0        3.25          Cash   \n",
       "17606                  ...                      0.0        4.25          Cash   \n",
       "\n",
       "                     company  pickup_lat pickup_long  \\\n",
       "19729  1085 - N and W Cab Co   41.953582  -87.723452   \n",
       "17370  1085 - N and W Cab Co   41.958798  -87.738394   \n",
       "17298  1085 - N and W Cab Co   41.958798  -87.738394   \n",
       "20033  1085 - N and W Cab Co   41.958798  -87.738394   \n",
       "17606  1085 - N and W Cab Co   41.958798  -87.738394   \n",
       "\n",
       "                                 pickup_loc  dropoff_lat  dropoff_long  \\\n",
       "19729  POINT (-87.7234523905 41.9535821253)    41.953582    -87.723452   \n",
       "17370  POINT (-87.7383939059 41.9587978628)    41.958798    -87.738394   \n",
       "17298  POINT (-87.7383939059 41.9587978628)    41.958798    -87.738394   \n",
       "20033  POINT (-87.7383939059 41.9587978628)    41.958798    -87.738394   \n",
       "17606  POINT (-87.7383939059 41.9587978628)    41.958798    -87.738394   \n",
       "\n",
       "                                dropoff_loc  \n",
       "19729  POINT (-87.7234523905 41.9535821253)  \n",
       "17370  POINT (-87.7383939059 41.9587978628)  \n",
       "17298  POINT (-87.7383939059 41.9587978628)  \n",
       "20033  POINT (-87.7383939059 41.9587978628)  \n",
       "17606  POINT (-87.7383939059 41.9587978628)  \n",
       "\n",
       "[5 rows x 23 columns]"
      ]
     },
     "execution_count": 52,
     "metadata": {},
     "output_type": "execute_result"
    }
   ],
   "source": [
    "NWCab.head()"
   ]
  },
  {
   "cell_type": "code",
   "execution_count": 53,
   "metadata": {
    "scrolled": true
   },
   "outputs": [
    {
     "data": {
      "text/html": [
       "<div>\n",
       "<style scoped>\n",
       "    .dataframe tbody tr th:only-of-type {\n",
       "        vertical-align: middle;\n",
       "    }\n",
       "\n",
       "    .dataframe tbody tr th {\n",
       "        vertical-align: top;\n",
       "    }\n",
       "\n",
       "    .dataframe thead th {\n",
       "        text-align: right;\n",
       "    }\n",
       "</style>\n",
       "<table border=\"1\" class=\"dataframe\">\n",
       "  <thead>\n",
       "    <tr style=\"text-align: right;\">\n",
       "      <th></th>\n",
       "      <th>trip_miles</th>\n",
       "      <th>trip_sec</th>\n",
       "      <th>trip_total</th>\n",
       "    </tr>\n",
       "  </thead>\n",
       "  <tbody>\n",
       "    <tr>\n",
       "      <th>12376</th>\n",
       "      <td>6.0</td>\n",
       "      <td>1620.0</td>\n",
       "      <td>19.75</td>\n",
       "    </tr>\n",
       "    <tr>\n",
       "      <th>14816</th>\n",
       "      <td>1.1</td>\n",
       "      <td>300.0</td>\n",
       "      <td>7.00</td>\n",
       "    </tr>\n",
       "    <tr>\n",
       "      <th>12648</th>\n",
       "      <td>3.5</td>\n",
       "      <td>660.0</td>\n",
       "      <td>13.00</td>\n",
       "    </tr>\n",
       "    <tr>\n",
       "      <th>12910</th>\n",
       "      <td>7.5</td>\n",
       "      <td>840.0</td>\n",
       "      <td>22.00</td>\n",
       "    </tr>\n",
       "    <tr>\n",
       "      <th>12012</th>\n",
       "      <td>1.0</td>\n",
       "      <td>240.0</td>\n",
       "      <td>6.75</td>\n",
       "    </tr>\n",
       "  </tbody>\n",
       "</table>\n",
       "</div>"
      ],
      "text/plain": [
       "       trip_miles  trip_sec  trip_total\n",
       "12376         6.0    1620.0       19.75\n",
       "14816         1.1     300.0        7.00\n",
       "12648         3.5     660.0       13.00\n",
       "12910         7.5     840.0       22.00\n",
       "12012         1.0     240.0        6.75"
      ]
     },
     "execution_count": 53,
     "metadata": {},
     "output_type": "execute_result"
    }
   ],
   "source": [
    "NWCab1 = NWCab[(pd.DatetimeIndex(NWCab['trip_start']).year == 2017) & (NWCab.trip_start.notnull()) \n",
    "               & (NWCab.trip_miles.notnull()) & (NWCab.trip_sec.notnull()) & (NWCab.trip_total.notnull())]\n",
    "NWCab1 = NWCab1[['trip_miles', 'trip_sec', 'trip_total']] \n",
    "NWCab1.head()"
   ]
  },
  {
   "cell_type": "code",
   "execution_count": 54,
   "metadata": {},
   "outputs": [
    {
     "data": {
      "text/html": [
       "<div>\n",
       "<style scoped>\n",
       "    .dataframe tbody tr th:only-of-type {\n",
       "        vertical-align: middle;\n",
       "    }\n",
       "\n",
       "    .dataframe tbody tr th {\n",
       "        vertical-align: top;\n",
       "    }\n",
       "\n",
       "    .dataframe thead th {\n",
       "        text-align: right;\n",
       "    }\n",
       "</style>\n",
       "<table border=\"1\" class=\"dataframe\">\n",
       "  <thead>\n",
       "    <tr style=\"text-align: right;\">\n",
       "      <th></th>\n",
       "      <th>trip_miles</th>\n",
       "      <th>trip_sec</th>\n",
       "      <th>trip_total</th>\n",
       "    </tr>\n",
       "  </thead>\n",
       "  <tbody>\n",
       "    <tr>\n",
       "      <th>19729</th>\n",
       "      <td>0.0</td>\n",
       "      <td>0.0</td>\n",
       "      <td>3.75</td>\n",
       "    </tr>\n",
       "    <tr>\n",
       "      <th>17370</th>\n",
       "      <td>0.0</td>\n",
       "      <td>60.0</td>\n",
       "      <td>4.25</td>\n",
       "    </tr>\n",
       "    <tr>\n",
       "      <th>17298</th>\n",
       "      <td>0.0</td>\n",
       "      <td>0.0</td>\n",
       "      <td>5.25</td>\n",
       "    </tr>\n",
       "    <tr>\n",
       "      <th>20033</th>\n",
       "      <td>0.0</td>\n",
       "      <td>0.0</td>\n",
       "      <td>3.25</td>\n",
       "    </tr>\n",
       "    <tr>\n",
       "      <th>17606</th>\n",
       "      <td>0.0</td>\n",
       "      <td>0.0</td>\n",
       "      <td>4.25</td>\n",
       "    </tr>\n",
       "  </tbody>\n",
       "</table>\n",
       "</div>"
      ],
      "text/plain": [
       "       trip_miles  trip_sec  trip_total\n",
       "19729         0.0       0.0        3.75\n",
       "17370         0.0      60.0        4.25\n",
       "17298         0.0       0.0        5.25\n",
       "20033         0.0       0.0        3.25\n",
       "17606         0.0       0.0        4.25"
      ]
     },
     "execution_count": 54,
     "metadata": {},
     "output_type": "execute_result"
    }
   ],
   "source": [
    "testNWCab = NWCab[(pd.DatetimeIndex(NWCab['trip_start']).year != 2017) & (NWCab.trip_start.notnull()) \n",
    "                  & (NWCab.trip_miles.notnull()) & (NWCab.trip_sec.notnull()) & (NWCab.trip_total.notnull())]\n",
    "testNWCab = testNWCab[['trip_miles', 'trip_sec', 'trip_total']]\n",
    "testNWCab.head()"
   ]
  },
  {
   "cell_type": "code",
   "execution_count": 55,
   "metadata": {},
   "outputs": [],
   "source": [
    "#Linear model for total time, trip distance to predict fare. \n",
    "miles = NWCab1.trip_miles.values.reshape(-1,1)\n",
    "time = NWCab1.trip_sec.values.reshape(-1,1)\n",
    "total = NWCab1.trip_total.values.reshape(-1,1)\n",
    "testmiles = testNWCab.trip_miles.values.reshape(-1,1)\n",
    "testtime = testNWCab.trip_sec.values.reshape(-1,1)\n",
    "testtotal = testNWCab.trip_total.values.reshape(-1,1)"
   ]
  },
  {
   "cell_type": "code",
   "execution_count": 56,
   "metadata": {},
   "outputs": [
    {
     "data": {
      "text/plain": [
       "<matplotlib.axes._subplots.AxesSubplot at 0x177e45c0>"
      ]
     },
     "execution_count": 56,
     "metadata": {},
     "output_type": "execute_result"
    },
    {
     "data": {
      "image/png": "[encoded data removed]",
      "text/plain": [
       "<Figure size 432x288 with 2 Axes>"
      ]
     },
     "metadata": {},
     "output_type": "display_data"
    }
   ],
   "source": [
    "fig, ax = plt.subplots(ncols=2, sharey=True)\n",
    "\n",
    "NWCab1.plot(kind='scatter', x='trip_sec', y='trip_total', ax=ax[0])\n",
    "NWCab1.plot(kind='scatter', x='trip_miles', y='trip_total', ax=ax[1])"
   ]
  },
  {
   "cell_type": "code",
   "execution_count": 57,
   "metadata": {},
   "outputs": [
    {
     "data": {
      "text/html": [
       "<div>\n",
       "<style scoped>\n",
       "    .dataframe tbody tr th:only-of-type {\n",
       "        vertical-align: middle;\n",
       "    }\n",
       "\n",
       "    .dataframe tbody tr th {\n",
       "        vertical-align: top;\n",
       "    }\n",
       "\n",
       "    .dataframe thead th {\n",
       "        text-align: right;\n",
       "    }\n",
       "</style>\n",
       "<table border=\"1\" class=\"dataframe\">\n",
       "  <thead>\n",
       "    <tr style=\"text-align: right;\">\n",
       "      <th></th>\n",
       "      <th>trip_miles</th>\n",
       "      <th>trip_sec</th>\n",
       "      <th>trip_total</th>\n",
       "    </tr>\n",
       "  </thead>\n",
       "  <tbody>\n",
       "    <tr>\n",
       "      <th>trip_miles</th>\n",
       "      <td>1.000000</td>\n",
       "      <td>0.765512</td>\n",
       "      <td>0.885811</td>\n",
       "    </tr>\n",
       "    <tr>\n",
       "      <th>trip_sec</th>\n",
       "      <td>0.765512</td>\n",
       "      <td>1.000000</td>\n",
       "      <td>0.824548</td>\n",
       "    </tr>\n",
       "    <tr>\n",
       "      <th>trip_total</th>\n",
       "      <td>0.885811</td>\n",
       "      <td>0.824548</td>\n",
       "      <td>1.000000</td>\n",
       "    </tr>\n",
       "  </tbody>\n",
       "</table>\n",
       "</div>"
      ],
      "text/plain": [
       "            trip_miles  trip_sec  trip_total\n",
       "trip_miles    1.000000  0.765512    0.885811\n",
       "trip_sec      0.765512  1.000000    0.824548\n",
       "trip_total    0.885811  0.824548    1.000000"
      ]
     },
     "execution_count": 57,
     "metadata": {},
     "output_type": "execute_result"
    }
   ],
   "source": [
    "NWCab1.corr()"
   ]
  },
  {
   "cell_type": "code",
   "execution_count": 58,
   "metadata": {},
   "outputs": [
    {
     "name": "stdout",
     "output_type": "stream",
     "text": [
      "('Regression Results', '\\n')\n",
      "Trip Miles vs. Total Cost\n",
      "('Score:', 0.7846618817340903)\n",
      "('RMSE:', 3.1859710386393614, '\\n')\n",
      "Trip Time (s.)  vs. Total Cost\n",
      "('Score', 0.679879965397767)\n",
      "('RMSE:', 3.8845238690834933, '\\n')\n"
     ]
    }
   ],
   "source": [
    "import numpy as np\n",
    "from sklearn import linear_model\n",
    "\n",
    "print('Regression Results', '\\n')\n",
    "\n",
    "miles_total = linear_model.LinearRegression()\n",
    "miles_total.fit(miles, total);\n",
    "print('Trip Miles vs. Total Cost')\n",
    "print('Score:', miles_total.score(miles, total))\n",
    "pred = miles_total.predict(miles)\n",
    "print('RMSE:',np.sqrt(((total-pred)**2).sum()/len(pred)),'\\n')\n",
    "\n",
    "time_total = linear_model.LinearRegression()\n",
    "time_total.fit(time, total);\n",
    "print('Trip Time (s.)  vs. Total Cost')\n",
    "print('Score',time_total.score(time, total))\n",
    "pred = time_total.predict(time)\n",
    "print('RMSE:',np.sqrt(((total-pred)**2).sum()/len(pred)), '\\n')"
   ]
  },
  {
   "cell_type": "code",
   "execution_count": 59,
   "metadata": {},
   "outputs": [
    {
     "name": "stdout",
     "output_type": "stream",
     "text": [
      "('RMSE for test data\\n', 'Trip Miles', 3.230247672853897)\n",
      "('', 'Trip Time (s.)', 3.513895377458621)\n"
     ]
    }
   ],
   "source": [
    "predt = miles_total.predict(testmiles)\n",
    "predt1 = time_total.predict(testtime)\n",
    "print('RMSE for test data\\n','Trip Miles',np.sqrt(((testtotal-predt)**2).sum()/len(predt)))\n",
    "print('','Trip Time (s.)',np.sqrt(((testtotal-predt1)**2).sum()/len(predt1)))"
   ]
  },
  {
   "cell_type": "code",
   "execution_count": 60,
   "metadata": {},
   "outputs": [
    {
     "data": {
      "image/png": "[encoded data removed]",
      "text/plain": [
       "<Figure size 720x288 with 2 Axes>"
      ]
     },
     "metadata": {},
     "output_type": "display_data"
    }
   ],
   "source": [
    "L = miles_total.predict(miles)\n",
    "L1 = time_total.predict(time)\n",
    "\n",
    "fig, (ax1,ax2) = plt.subplots(nrows=1,ncols=2,figsize=(10,4))\n",
    "\n",
    "ax1.plot(miles,total,'.')\n",
    "ax1.plot(testmiles,testtotal,'*')\n",
    "ax1.plot(miles,L)\n",
    "ax1.set_xlim(xmin=0,xmax=20)\n",
    "ax1.set_xlabel('Trip Miles')\n",
    "ax1.set_ylabel('Trip Total')\n",
    "ax1.set_title('Miles vs. Total')\n",
    "\n",
    "ax2.plot(time,total,'.')\n",
    "ax2.plot(testtime,testtotal,'*')\n",
    "ax2.plot(time,L1)\n",
    "ax2.set_xlim(xmin=0,xmax=4000)\n",
    "ax2.set_xlabel('Trip Time')\n",
    "ax2.set_ylabel('Trip Total')\n",
    "ax2.set_title('Time vs. Total')\n",
    "\n",
    "fig.tight_layout()"
   ]
  },
  {
   "cell_type": "code",
   "execution_count": 61,
   "metadata": {},
   "outputs": [
    {
     "name": "stdout",
     "output_type": "stream",
     "text": [
      "('Trip Miles and Time to predict Total', '\\n')\n",
      "('Miles/Time', '\\n', 'Score:', 0.8364681061979896, '\\n', 'RMSE:', 2.776403606628424, '\\n')\n"
     ]
    }
   ],
   "source": [
    "print('Trip Miles and Time to predict Total','\\n')\n",
    "\n",
    "mtTotal = linear_model.LinearRegression()\n",
    "mt = np.hstack((miles,time))\n",
    "mtTotal.fit(mt,total)\n",
    "pred = mtTotal.predict(mt)\n",
    "print('Miles/Time','\\n','Score:',mtTotal.score(mt,total),'\\n','RMSE:', np.sqrt(((total-pred)**2).sum()/len(pred)),'\\n')"
   ]
  },
  {
   "cell_type": "code",
   "execution_count": 62,
   "metadata": {},
   "outputs": [],
   "source": [
    "testmt = np.hstack((testmiles,testtime))"
   ]
  },
  {
   "cell_type": "code",
   "execution_count": 63,
   "metadata": {},
   "outputs": [
    {
     "name": "stdout",
     "output_type": "stream",
     "text": [
      "('(Test Date) Trip Miles and Time to predict Total', '\\n')\n",
      "('Miles/Time', '\\n', 'Score:', 0.8160689068934652, '\\n', 'RMSE:', 2.676657562663727, '\\n')\n"
     ]
    }
   ],
   "source": [
    "print('(Test Data: 2017) Trip Miles and Time to predict Total','\\n')\n",
    "\n",
    "pred1 = mtTotal.predict(testmt)\n",
    "print('Miles/Time','\\n','Score:',mtTotal.score(testmt,testtotal),'\\n','RMSE:', np.sqrt(((testtotal-pred1)**2).sum()/len(pred1)),'\\n')"
   ]
  },
  {
   "cell_type": "code",
   "execution_count": null,
   "metadata": {},
   "outputs": [],
   "source": []
  }
 ],
 "metadata": {
  "kernelspec": {
   "display_name": "Python 2",
   "language": "python",
   "name": "python2"
  },
  "language_info": {
   "codemirror_mode": {
    "name": "ipython",
    "version": 2
   },
   "file_extension": ".py",
   "mimetype": "text/x-python",
   "name": "python",
   "nbconvert_exporter": "python",
   "pygments_lexer": "ipython2",
   "version": "2.7.15"
  }
 },
 "nbformat": 4,
 "nbformat_minor": 2
}
